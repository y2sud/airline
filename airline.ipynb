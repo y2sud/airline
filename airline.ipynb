{
 "cells": [
  {
   "cell_type": "code",
   "execution_count": 15,
   "metadata": {
    "collapsed": true
   },
   "outputs": [],
   "source": [
    "# This program will solve first 3 questions from problem statement\n",
    "# Depending on which answer is sought, one or more of below variables can be set to True\n",
    "\n",
    "question1 = True\n",
    "question2 = False\n",
    "question3 = False"
   ]
  },
  {
   "cell_type": "code",
   "execution_count": null,
   "metadata": {},
   "outputs": [],
   "source": [
    "import numpy as np\n",
    "import pandas as pd\n",
    "import os, sys, math, time\n",
    "from collections import OrderedDict\n"
   ]
  },
  {
   "cell_type": "code",
   "execution_count": null,
   "metadata": {
    "collapsed": true
   },
   "outputs": [],
   "source": [
    "def read_files():\n",
    "    global data, plane, airports, carriers\n",
    "    \n",
    "    data_2007 = pd.read_csv('2007.csv')\n",
    "    data_2008 = pd.read_csv('2008.csv')\n",
    "    data = pd.concat([data_2007, data_2008],axis=0)\n",
    "    data.reset_index(inplace=True)\n",
    "    plane = pd.read_csv('plane-data.csv')\n",
    "    airports = pd.read_csv('airports.csv')\n",
    "    carriers = pd.read_csv('carriers.csv')\n",
    "    "
   ]
  },
  {
   "cell_type": "code",
   "execution_count": null,
   "metadata": {
    "collapsed": true
   },
   "outputs": [],
   "source": [
    "def main():\n",
    "    global ans2_dict, ans3_dict\n",
    "    \n",
    "    start = time.time()\n",
    "    \n",
    "    if question1:\n",
    "        print 'Solving answer 1..'\n",
    "        # Get unique carriers\n",
    "        all_carriers = data.ix[:,'UniqueCarrier']\n",
    "        answer_1 = answer1(all_carriers)\n",
    "        answer_1.solve()\n",
    "\n",
    "    if question2:\n",
    "        print 'Solving answer 2..'\n",
    "        # Fetch subset of below columns\n",
    "        subset = data.ix[:,['Month','DayofMonth','DayOfWeek','CRSDepTime','ArrDelay']]\n",
    "        try:\n",
    "            answer_2 = answer2(subset)\n",
    "            ans2_dict = answer_2.solve()\n",
    "        except:\n",
    "            print 'error in solution 2'\n",
    "        \n",
    "        print 'Run time for question 2 = ', time.time() - start\n",
    "        \n",
    "    inter = time.time()\n",
    "    \n",
    "    if question3:\n",
    "        print 'Solving answer 3..'\n",
    "        #all_tail = data.ix[:,'TailNum']\n",
    "        # Get unique tail numbers\n",
    "        all_tail = data.ix[:,'TailNum'].drop_duplicates()\n",
    "        all_tail.dropna()\n",
    "        print len(all_tail)\n",
    "        answer_3 = answer3(all_tail)\n",
    "        ans3_dict = answer_3.solve()\n",
    "        print 'Run time for question 3 = ', time.time() - inter\n",
    "    \n",
    "    print '\\ntotal time ' , time.time() - start\n",
    "    \n",
    "    "
   ]
  },
  {
   "cell_type": "code",
   "execution_count": null,
   "metadata": {
    "collapsed": true
   },
   "outputs": [],
   "source": [
    "class answers:\n",
    "    def __init__(self,data):\n",
    "        pass\n",
    "        #print self.all_carriers.ix\n",
    "    \n",
    "    def solve(self):\n",
    "        pass        \n",
    "    "
   ]
  },
  {
   "cell_type": "markdown",
   "metadata": {},
   "source": [
    "# Logic for question 1 ... carrier with least delay"
   ]
  },
  {
   "cell_type": "code",
   "execution_count": null,
   "metadata": {
    "collapsed": true
   },
   "outputs": [],
   "source": [
    "class answer1(answers):\n",
    "    def __init__(self,all_carriers):\n",
    "        #answers.__init__(self)\n",
    "        self.all_carriers = all_carriers\n",
    "    \n",
    "    def solve(self):\n",
    "        arr_delay = 999.0\n",
    "        carrier_delay = ''\n",
    "        for ind, carrier in enumerate(self.get_uniq_carrier()):            \n",
    "            arrdelay_list = [data.ix[data.ix[:,'UniqueCarrier'] == carrier,'ArrDelay']]\n",
    "            #if carrier == 'AQ':\n",
    "            #    print 'list ', arrdelay_list\n",
    "            avg_delay = np.nanmean(arrdelay_list)\n",
    "            print 'Index. %d  carrier %s  delay  %f '  % (ind+1, carrier, avg_delay)\n",
    "            if arr_delay > avg_delay:\n",
    "                arr_delay = avg_delay\n",
    "                carrier_delay = carrier\n",
    "            \n",
    "        print 'Carrier with minimum average Arrival delay is %s: %f mins average' % (carrier_delay, arr_delay)\n",
    "        \n",
    "    def get_uniq_carrier(self):\n",
    "        uniq_carrier = self.all_carriers.drop_duplicates()\n",
    "        #print 'uniq carr...' , uniq_carrier\n",
    "        #print uniq_carrier\n",
    "        return uniq_carrier\n",
    "    "
   ]
  },
  {
   "cell_type": "markdown",
   "metadata": {},
   "source": [
    "# Logic for question 2 ... best time of year to fly - minimum delay"
   ]
  },
  {
   "cell_type": "code",
   "execution_count": null,
   "metadata": {
    "collapsed": true
   },
   "outputs": [],
   "source": [
    "class answer2(answers):\n",
    "    def __init__(self,subset):\n",
    "        #answers.__init__(self)\n",
    "        self.subset = subset\n",
    "    \n",
    "    def build(self):\n",
    "        period_dict = OrderedDict()\n",
    "        \n",
    "        for ind, row in self.subset.iterrows():\n",
    "\n",
    "            mth, day, week, tim, arrdelay = row[0], row[1], row[2], row[3], row[4]\n",
    "\n",
    "            if pd.isnull(arrdelay) or pd.isnull(mth) or pd.isnull(day) or pd.isnull(week) or pd.isnull(tim):\n",
    "                continue\n",
    "                \n",
    "            if ind % 400000 == 0:\n",
    "                print ind+1 , 'row ', mth, day, week, tim, arrdelay\n",
    "                \n",
    "            period_mth = math.ceil(day / float(7) )\n",
    "            if tim <= 400:\n",
    "                period_day = 1\n",
    "            elif tim <= 800 and tim > 400:\n",
    "                period_day = 2\n",
    "            elif tim <= 1200 and tim > 800:\n",
    "                period_day = 3\n",
    "            elif tim <= 1600 and tim > 1200:\n",
    "                period_day = 4\n",
    "            elif tim <= 2000 and tim > 1600:\n",
    "                period_day = 5\n",
    "            else:\n",
    "                period_day = 6\n",
    "                \n",
    "            key = ':'.join((str(mth),str(period_mth),str(week),str(period_day)))\n",
    "            #print 'key ', key\n",
    "            \n",
    "            if period_dict.has_key(key):\n",
    "                period_dict[key].append(arrdelay)\n",
    "            else:\n",
    "                period_dict[key] = [arrdelay]\n",
    "                \n",
    "            #if ind > 200:\n",
    "            #    break\n",
    "                \n",
    "        return period_dict\n",
    "            \n",
    "        \n",
    "    def solve(self):        \n",
    "            period_dict = self.build()\n",
    "            \n",
    "            # iterate over period dictionary to find mean ArrDelay\n",
    "            mindelay = 999\n",
    "            for key, lst in period_dict.items():\n",
    "                avgdelay = np.average(lst)\n",
    "                if mindelay > avgdelay:\n",
    "                    mindelay = avgdelay\n",
    "                    period = key\n",
    "                    \n",
    "            mth, period_mth, week, period_day = key.split(':')\n",
    "            if period_day == '1':\n",
    "                duration = '00:00 - 04:00'\n",
    "            elif period_day == '2':\n",
    "                duration = '04:00 - 08:00'\n",
    "            elif period_day == '3':\n",
    "                duration = '08:00 - 12:00'\n",
    "            elif period_day == '4':\n",
    "                duration = '12:00 - 16:00'\n",
    "            elif period_day == '5':\n",
    "                duration = '16:00 - 20:00'\n",
    "            else:\n",
    "                duration = '20:00 - 00:00'\n",
    "            \n",
    "            #print '\\nperiod dict ', period_dict\n",
    "            \n",
    "            print '\\nBest time is month %s, week %s, day of week %s, time period %s; average Arrival delay %f ' \\\n",
    "                %(mth,period_mth,week,duration, mindelay )\n",
    "        \n",
    "            return period_dict\n",
    "    "
   ]
  },
  {
   "cell_type": "markdown",
   "metadata": {},
   "source": [
    "# Logic for question 3 ... Do older planes suffer more delay?"
   ]
  },
  {
   "cell_type": "code",
   "execution_count": null,
   "metadata": {
    "collapsed": true
   },
   "outputs": [],
   "source": [
    "class answer3(answers):\n",
    "    def __init__(self, all_tail):\n",
    "        #answers.__init__(self)\n",
    "        self.all_tail = all_tail\n",
    "    \n",
    "\n",
    "    def solve(self):\n",
    "        year_dict = OrderedDict()\n",
    "        temp_year_dict = self.build()\n",
    "        print 'build over...'\n",
    "        \n",
    "        for year, lst in temp_year_dict.items():\n",
    "            tot_cnt, tot_sm = 0, 0\n",
    "            for tup in lst:\n",
    "                sm, cnt = tup\n",
    "                tot_sm += sm\n",
    "                tot_cnt += cnt\n",
    "                avg_delay = float(tot_sm) / tot_cnt\n",
    "                \n",
    "            year_dict[year] = avg_delay\n",
    "            print 'year %s: average %f ' % (year, avg_delay)\n",
    "        \n",
    "        print year_dict\n",
    "        return year_dict\n",
    "            \n",
    "    def build(self):\n",
    "        year_dict = OrderedDict()\n",
    "        for ind, tail in enumerate(self.all_tail):\n",
    "            if ind % 100 == 0:\n",
    "                print 'tail: ', ind+1,  tail\n",
    "            \n",
    "            # for a given tail num, find year from plane df\n",
    "            year_series = plane.ix[plane.ix[:,'tailnum'] == tail, 'year']\n",
    "            # for a given tail num, find list of all ArrDelays from data df\n",
    "            lst = data.ix[data.ix[:,'TailNum'] == tail , 'ArrDelay']\n",
    "            \n",
    "            if year_series.empty:\n",
    "                continue\n",
    "                \n",
    "            # find non-nan sum\n",
    "            sm = np.nansum(lst)\n",
    "            # find non-nan count\n",
    "            cnt = len(np.where(~np.isnan(lst))[0])\n",
    "            \n",
    "            year = year_series.to_string(index=False)\n",
    "            if pd.isnull(year) or year == '0000':\n",
    "                continue\n",
    "                \n",
    "            #print 'year ', year_series\n",
    "            if year_dict.has_key(year):\n",
    "                year_dict[year].append((sm, cnt))\n",
    "            else:\n",
    "                year_dict[year] = [(sm, cnt)]\n",
    "           \n",
    "            #if ind > 20:\n",
    "            #    break\n",
    "                \n",
    "        sorted_year = OrderedDict(sorted(year_dict.items(), key = lambda x:x[0]))\n",
    "        return sorted_year\n",
    "        \n",
    "        "
   ]
  },
  {
   "cell_type": "code",
   "execution_count": 14,
   "metadata": {},
   "outputs": [
    {
     "name": "stdout",
     "output_type": "stream",
     "text": [
      "Called from Jupyter ..\n",
      "/home/test/prsnl/airline \n",
      "\n",
      "reading files..\n",
      "Solving answer 1..\n",
      "Index. 1  carrier WN  delay  5.324444 \n",
      "Index. 2  carrier XE  delay  10.297680 \n",
      "Index. 3  carrier YV  delay  11.340524 \n",
      "Index. 4  carrier OH  delay  12.529856 \n",
      "Index. 5  carrier OO  delay  7.747923 \n",
      "Index. 6  carrier UA  delay  12.053462 \n",
      "Index. 7  carrier US  delay  7.326573 \n",
      "Index. 8  carrier DL  delay  7.571720 \n",
      "Index. 9  carrier EV  delay  13.712953 \n",
      "Index. 10  carrier F9  delay  6.776470 \n",
      "Index. 11  carrier FL  delay  8.513363 \n",
      "Index. 12  carrier HA  delay  0.455120 \n",
      "Index. 13  carrier MQ  delay  11.512491 \n",
      "Index. 14  carrier NW  delay  10.177567 \n",
      "Index. 15  carrier 9E  delay  6.108228 \n",
      "Index. 16  carrier AA  delay  13.546217 \n",
      "Index. 17  carrier AQ  delay  -1.595096 \n",
      "Index. 18  carrier AS  delay  7.096523 \n",
      "Index. 19  carrier B6  delay  12.246536 \n",
      "Index. 20  carrier CO  delay  10.609617 \n",
      "Carrier with minimum average Arrival delay is AQ: -1.595096 mins average\n",
      "\n",
      "total time  26.8633768559\n"
     ]
    }
   ],
   "source": [
    "if __name__ == \"__main__\":\n",
    "    if sys.argv[0].find('airline') > -1:\n",
    "        print 'Called from command line ..'\n",
    "        error = False\n",
    "        \n",
    "        if len(sys.argv) == 1:\n",
    "            print  'No path passed'\n",
    "            error = True\n",
    "        else:\n",
    "            path = sys.argv[1]    \n",
    "            if len(sys.argv) >= 3:\n",
    "                question1 = sys.argv[2]\n",
    "                if question1.lower() <> 'y':\n",
    "                    print 'Invalid question 1 parm'\n",
    "                    error = True\n",
    "            if len(sys.argv) >= 4:\n",
    "                question2 = sys.argv[3]\n",
    "                if question2.lower() <> 'y':\n",
    "                    print 'Invalid question 2 parm'\n",
    "                    error = True                \n",
    "            if len(sys.argv) == 5:\n",
    "                question3 = sys.argv[4]\n",
    "                if question3.lower() <> 'y':\n",
    "                    print 'Invalid question 3 parm'\n",
    "                    error = True\n",
    "\n",
    "            if len(sys.argv) > 5 or error:\n",
    "                print 'Previous error, or too many arguments passed... exit'\n",
    "                sys.exit()\n",
    "    else:\n",
    "        print 'Called from Jupyter ..'\n",
    "        path = r'/home/test/prsnl/airline'\n",
    "\n",
    "    os.chdir(path)\n",
    "    print os.getcwd(), '\\n'\n",
    "    print 'reading files..'\n",
    "    read_files()\n",
    "        \n",
    "    #print 'args ', sys.argv\n",
    "    main()"
   ]
  },
  {
   "cell_type": "code",
   "execution_count": null,
   "metadata": {},
   "outputs": [],
   "source": [
    "#bkup_dict = ans3_dict\n",
    "#bkup_dict"
   ]
  },
  {
   "cell_type": "markdown",
   "metadata": {},
   "source": [
    "# Additional... plot manufacture year versus average arrival delay"
   ]
  },
  {
   "cell_type": "code",
   "execution_count": null,
   "metadata": {},
   "outputs": [],
   "source": [
    "import matplotlib.pyplot as plt\n",
    "import seaborn as sns"
   ]
  },
  {
   "cell_type": "code",
   "execution_count": 12,
   "metadata": {},
   "outputs": [],
   "source": [
    "#%matplotlib inline"
   ]
  },
  {
   "cell_type": "code",
   "execution_count": 13,
   "metadata": {},
   "outputs": [
    {
     "name": "stdout",
     "output_type": "stream",
     "text": [
      "ans3 logic not executed.., so no plot\n"
     ]
    }
   ],
   "source": [
    "# ans3_dict contains average arrival delay for each manufacture year \n",
    "# plot a bar chart\n",
    "fig, ax1 = plt.subplots(1,1,figsize=(30, 16))\n",
    "\n",
    "try:\n",
    "    x_ax = list(ans3_dict.keys())\n",
    "    y_ax = list(ans3_dict.values())\n",
    "    sns.barplot(x=x_ax, y=y_ax, ax=ax1)\n",
    "except:\n",
    "    print 'ans3 logic not executed.., so no plot'\n",
    "#x_ax\n",
    "#fig.savefig('years.png')"
   ]
  },
  {
   "cell_type": "code",
   "execution_count": null,
   "metadata": {
    "collapsed": true
   },
   "outputs": [],
   "source": []
  }
 ],
 "metadata": {
  "anaconda-cloud": {},
  "kernelspec": {
   "display_name": "Python [conda root]",
   "language": "python",
   "name": "conda-root-py"
  },
  "language_info": {
   "codemirror_mode": {
    "name": "ipython",
    "version": 2
   },
   "file_extension": ".py",
   "mimetype": "text/x-python",
   "name": "python",
   "nbconvert_exporter": "python",
   "pygments_lexer": "ipython2",
   "version": "2.7.13"
  }
 },
 "nbformat": 4,
 "nbformat_minor": 2
}
